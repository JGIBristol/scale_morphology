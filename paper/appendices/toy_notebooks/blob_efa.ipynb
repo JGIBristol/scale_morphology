{
 "cells": [
  {
   "cell_type": "markdown",
   "id": "b4af3cca",
   "metadata": {},
   "source": [
    "EFA on a blob\n",
    "===="
   ]
  },
  {
   "cell_type": "code",
   "execution_count": null,
   "id": "05f67eea",
   "metadata": {},
   "outputs": [],
   "source": [
    "\"\"\"\n",
    "Read in blob\n",
    "\"\"\"\n",
    "\n",
    "import numpy as np\n",
    "from PIL import Image\n",
    "\n",
    "blob_img = 255 * (~(np.array(Image.open(\"blob.png\").convert(\"L\")) == 255)).astype(np.uint8)"
   ]
  },
  {
   "cell_type": "code",
   "execution_count": null,
   "id": "b4affbba",
   "metadata": {},
   "outputs": [],
   "source": [
    "from scale_morphology.scales import efa, plotting\n",
    "\n",
    "fig, axes = plt.subplots(1, 4, figsize=(8, 3))\n",
    "\n",
    "n_points = 100\n",
    "orders = [1, 2, 5, 25]\n",
    "\n",
    "locus = np.mean(np.where(blob_img), axis=1)[::-1]\n",
    "\n",
    "x, y = efa.points_around_edge(blob_img, n_points)\n",
    "\n",
    "for order, axis in zip(orders, axes):\n",
    "    im = axis.imshow(blob_img, origin=\"upper\", cmap=\"binary\", label=\"Object\")\n",
    "\n",
    "    axis.plot(y, x, \"go\", markersize=2, label=\"Points on edge\")\n",
    "\n",
    "    coeffs = efa.coefficients(blob_img, n_points, order)\n",
    "\n",
    "    a, b = efa.coeffs2points(coeffs, locus)\n",
    "    axis.plot(a, blob_img.shape[0] - b, color=\"purple\")\n",
    "\n",
    "    axis.set_axis_off()\n",
    "    axis.set_title(f\"Order {order}\")\n",
    "fig.tight_layout()\n",
    "fig.savefig(\"../blob_efa.png\")"
   ]
  }
 ],
 "metadata": {
  "kernelspec": {
   "display_name": "scale-morphology (3.12.2)",
   "language": "python",
   "name": "python3"
  },
  "language_info": {
   "codemirror_mode": {
    "name": "ipython",
    "version": 3
   },
   "file_extension": ".py",
   "mimetype": "text/x-python",
   "name": "python",
   "nbconvert_exporter": "python",
   "pygments_lexer": "ipython3",
   "version": "3.12.2"
  }
 },
 "nbformat": 4,
 "nbformat_minor": 5
}
