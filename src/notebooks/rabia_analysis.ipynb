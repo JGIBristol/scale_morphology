{
 "cells": [
  {
   "cell_type": "markdown",
   "id": "10a5e758",
   "metadata": {},
   "source": [
    "Scale Analysis Example\n",
    "====\n",
    "Using scales from Rabia Sevil\n",
    "\n",
    "We'll read the LIF files, try to segment them out (either just by thresholding or by using a pretrained model) and then run EFA to summarise their shape variation.\n",
    "\n",
    "Read in the scales\n",
    "----"
   ]
  },
  {
   "cell_type": "code",
   "execution_count": null,
   "id": "d6cfc20f",
   "metadata": {},
   "outputs": [],
   "source": [
    "%load_ext autoreload\n",
    "%autoreload 2"
   ]
  },
  {
   "cell_type": "code",
   "execution_count": null,
   "id": "3a321b69",
   "metadata": {},
   "outputs": [],
   "source": [
    "plot = True"
   ]
  },
  {
   "cell_type": "code",
   "execution_count": null,
   "id": "1d2d077a",
   "metadata": {},
   "outputs": [],
   "source": [
    "import pathlib\n",
    "\n",
    "parent_dir = pathlib.Path(\"~/zebrafish_rdsf/Rabia/SOST scales\").expanduser()\n",
    "assert parent_dir.exists()\n",
    "\n",
    "scale_dirs = tuple(d for d in parent_dir.glob(\"*\") if not d.stem in {\".DS_Store\", \"TIFs\"})"
   ]
  },
  {
   "cell_type": "code",
   "execution_count": null,
   "id": "7e648093",
   "metadata": {},
   "outputs": [],
   "source": [
    "from scale_morphology.scales import read\n",
    "\n",
    "scale_dir = scale_dirs[1]\n",
    "scale_paths = scale_dir.glob(\"*.lif\")\n",
    "path = next(scale_paths)\n",
    "print(path)\n",
    "\n",
    "names, images = zip(*read.read_lif(path))"
   ]
  },
  {
   "cell_type": "code",
   "execution_count": null,
   "id": "0f7c8219",
   "metadata": {},
   "outputs": [],
   "source": [
    "import math\n",
    "import textwrap\n",
    "import matplotlib.pyplot as plt\n",
    "\n",
    "\n",
    "def factor_int(n):\n",
    "    val = math.ceil(math.sqrt(n))\n",
    "    val2 = int(n / val)\n",
    "    while val2 * val != float(n):\n",
    "        val -= 1\n",
    "        val2 = int(n / val)\n",
    "    return val, val2\n",
    "\n",
    "\n",
    "def plot_imgs(images, **plot_kw):\n",
    "    global titles\n",
    "\n",
    "    n_figs = factor_int(len(images))\n",
    "\n",
    "    fig, axes = plt.subplots(*n_figs, figsize=[3 * x for x in n_figs])\n",
    "    for axis, img, title in zip(axes.flat, images, titles):\n",
    "        axis.imshow(img, **plot_kw)\n",
    "        axis.set_title(title)\n",
    "        axis.set_axis_off()\n",
    "    fig.tight_layout()\n",
    "\n",
    "\n",
    "titles = [\"\\n\".join(textwrap.wrap(name, width=10)) for name in names]\n",
    "if plot:\n",
    "    plot_imgs(images)"
   ]
  },
  {
   "cell_type": "markdown",
   "id": "d651271e",
   "metadata": {},
   "source": [
    "Segment them\n",
    "----\n",
    "Now that we have read the scales into memory, we want to threshold them out.\n",
    "There aren't that many, so we could probably just do this by hand, but I don't have a mouse right now so I'm going to try to do it using computers."
   ]
  },
  {
   "cell_type": "code",
   "execution_count": null,
   "id": "64229f20",
   "metadata": {},
   "outputs": [],
   "source": [
    "\"\"\"\n",
    "Otsu threshold\n",
    "\n",
    "\"\"\"\n",
    "\n",
    "from tqdm.notebook import tqdm\n",
    "from skimage.color import rgb2gray\n",
    "from skimage.filters import threshold_otsu\n",
    "\n",
    "greyscale = [rgb2gray(img) for img in tqdm(images)]\n",
    "thresholds = [threshold_otsu(img) for img in tqdm(greyscale)]"
   ]
  },
  {
   "cell_type": "code",
   "execution_count": null,
   "id": "103839f0",
   "metadata": {},
   "outputs": [],
   "source": [
    "import numpy as np\n",
    "\n",
    "if plot:\n",
    "    n_figs = factor_int(len(greyscale))\n",
    "    fig, axes = plt.subplots(\n",
    "        *n_figs, figsize=[5 * n_figs[0], 3 * n_figs[1]], sharex=True, sharey=True\n",
    "    )\n",
    "    for axis, img, title, threshold in zip(axes.flat, greyscale, tqdm(titles), thresholds):\n",
    "        axis.hist(img.ravel(), bins=np.linspace(0, 1, 100))\n",
    "        axis.axvline(threshold, color=\"r\")\n",
    "        axis.set_title(title)\n",
    "        axis.set_ylim(0, 400000)\n",
    "    \n",
    "    plt.show(fig)"
   ]
  },
  {
   "cell_type": "code",
   "execution_count": null,
   "id": "9d350377",
   "metadata": {},
   "outputs": [],
   "source": [
    "thresholded = [i < t for i, t in zip(greyscale, thresholds)]"
   ]
  },
  {
   "cell_type": "code",
   "execution_count": null,
   "id": "987b81cd",
   "metadata": {},
   "outputs": [],
   "source": [
    "if plot:\n",
    "    plot_imgs(thresholded, cmap=\"binary\")"
   ]
  },
  {
   "cell_type": "code",
   "execution_count": null,
   "id": "d312691b",
   "metadata": {},
   "outputs": [],
   "source": [
    "\"\"\"\n",
    "Remove objects touching the border\n",
    "\"\"\"\n",
    "\n",
    "from skimage.segmentation import clear_border\n",
    "\n",
    "cleared_border = [clear_border(t) for t in tqdm(thresholded)]\n",
    "\n",
    "if plot:\n",
    "    plot_imgs(cleared_border, cmap=\"binary\")"
   ]
  },
  {
   "cell_type": "code",
   "execution_count": null,
   "id": "f186f718",
   "metadata": {},
   "outputs": [],
   "source": [
    "from scipy import ndimage\n",
    "\n",
    "\n",
    "def largest_connected_component(binary_array):\n",
    "    \"\"\"\n",
    "    Return the largest connected component of a binary array, as a binary array,\n",
    "    using a 26-connectivity.\n",
    "\n",
    "    :param binary_array: Binary array.\n",
    "    :returns: Largest connected component.\n",
    "\n",
    "    \"\"\"\n",
    "    labelled, _ = ndimage.label(binary_array, np.ones((3, 3)))\n",
    "\n",
    "    # Find the size of each component\n",
    "    sizes = np.bincount(labelled.ravel())\n",
    "    sizes[0] = 0\n",
    "\n",
    "    retval = labelled == np.argmax(sizes)\n",
    "    print(f\"{np.sum(binary_array) - np.sum(retval)}\", end=\" \")\n",
    "    return retval\n",
    "\n",
    "\n",
    "single_obj = [largest_connected_component(img) for img in tqdm(cleared_border)]"
   ]
  },
  {
   "cell_type": "code",
   "execution_count": null,
   "id": "6a53c764",
   "metadata": {},
   "outputs": [],
   "source": [
    "if plot:\n",
    "    plot_imgs(single_obj, cmap=\"binary\")"
   ]
  },
  {
   "cell_type": "markdown",
   "id": "eb5796e8",
   "metadata": {},
   "source": [
    "Elliptical Fourier Analysis\n",
    "----\n",
    "We'll summarise their shapes using Elliptical Fourier Analysis (EFA)\n",
    "<a name=\"cite_ref-1\"></a><sup>[1]</sup>\n",
    "<a name=\"cite_ref-2\"></a><sup>[2]</sup>,\n",
    "which basically decomposes the boundary into sums of ellipses.\n",
    "The coefficients (strength and direction of each size of ellipse) tell us about the shape of the object.\n",
    "There's a demonstration of how this works [here](https://reinvantveer.github.io/2019/07/12/elliptical_fourier_analysis.html).\n",
    "\n",
    "Our edge is constructed as:\n",
    "\n",
    "\\begin{aligned}\n",
    "x(t) &= a_0 + \\sum_{n=1}^{N} \\big[a_n \\cos(n t) + b_n \\sin(n t)\\big],\\\\\n",
    "y(t) &= c_0 + \\sum_{n=1}^{N} \\big[c_n \\cos(n t) + d_n \\sin(n t)\\big],\n",
    "\\qquad t \\in [0, 2\\pi].\n",
    "\\end{aligned}\n",
    "\n",
    "with:\n",
    "\n",
    "\\begin{aligned}\n",
    "a_0 = \\frac{1}{2\\pi}\\int_{0}^{2\\pi} x(t)\\,dt,\\qquad\n",
    "c_0 = \\frac{1}{2\\pi}\\int_{0}^{2\\pi} y(t)\\,dt.\n",
    "\\end{aligned}\n",
    "\n",
    "\\begin{aligned}\n",
    "a_n &= \\frac{1}{\\pi}\\int_{0}^{2\\pi} x(t)\\cos(n t)\\,dt, &\n",
    "b_n &= \\frac{1}{\\pi}\\int_{0}^{2\\pi} x(t)\\sin(n t)\\,dt,\\\\\n",
    "c_n &= \\frac{1}{\\pi}\\int_{0}^{2\\pi} y(t)\\cos(n t)\\,dt, &\n",
    "d_n &= \\frac{1}{\\pi}\\int_{0}^{2\\pi} y(t)\\sin(n t)\\,dt.\n",
    "\\end{aligned}\n",
    "\n",
    "possibly up to some factors of $2\\pi$"
   ]
  },
  {
   "cell_type": "markdown",
   "id": "576aad49",
   "metadata": {},
   "source": [
    "[^1](#cite_ref-1):  F. P. Kuhl and C. R. Giardina, ‘Elliptic Fourier features of a closed contour’, Computer Graphics and Image Processing, vol. 18, no. 3, pp. 236–258, Mar. 1982, doi: 10.1016/0146-664x(82)90034-x. \n",
    "\n",
    "[^2](#cite_ref-2): N. MacLeod, 'PalaeoMath 101 part 25: the centre cannot hold II: Elliptic fourier\n",
    "analysis.' Palaeontol. Assoc. Newslett. 79, 29–43, 2012 http://go.palass.org/65a."
   ]
  }
 ],
 "metadata": {
  "kernelspec": {
   "display_name": "scale-morphology (3.12.2)",
   "language": "python",
   "name": "python3"
  },
  "language_info": {
   "codemirror_mode": {
    "name": "ipython",
    "version": 3
   },
   "file_extension": ".py",
   "mimetype": "text/x-python",
   "name": "python",
   "nbconvert_exporter": "python",
   "pygments_lexer": "ipython3",
   "version": "3.12.2"
  }
 },
 "nbformat": 4,
 "nbformat_minor": 5
}
