{
 "cells": [
  {
   "cell_type": "markdown",
   "id": "10a5e758",
   "metadata": {},
   "source": [
    "Scale Analysis Example\n",
    "====\n",
    "Using scales from Rabia Sevil\n",
    "\n",
    "We'll read the LIF files, try to segment them out (either just by thresholding or by using a pretrained model) and then run EFA to summarise their shape variation.\n",
    "\n",
    "Read in the scales\n",
    "----"
   ]
  },
  {
   "cell_type": "code",
   "execution_count": null,
   "id": "d6cfc20f",
   "metadata": {},
   "outputs": [],
   "source": [
    "%load_ext autoreload\n",
    "%autoreload 2"
   ]
  },
  {
   "cell_type": "code",
   "execution_count": null,
   "id": "1d2d077a",
   "metadata": {},
   "outputs": [],
   "source": [
    "import pathlib\n",
    "\n",
    "parent_dir = pathlib.Path(\"~/zebrafish_rdsf/Rabia/SOST scales\").expanduser()\n",
    "assert parent_dir.exists()\n",
    "\n",
    "scale_dirs = tuple(d for d in parent_dir.glob(\"*\") if not d.stem in {\".DS_Store\", \"TIFs\"})"
   ]
  },
  {
   "cell_type": "code",
   "execution_count": null,
   "id": "7e648093",
   "metadata": {},
   "outputs": [],
   "source": [
    "from scale_morphology.scales import read\n",
    "\n",
    "scale_dir = scale_dirs[1]\n",
    "scale_paths = scale_dir.glob(\"*.lif\")\n",
    "path = next(scale_paths)\n",
    "print(path)\n",
    "\n",
    "images = read.read_lif(path)"
   ]
  },
  {
   "cell_type": "code",
   "execution_count": null,
   "id": "0f7c8219",
   "metadata": {},
   "outputs": [],
   "source": [
    "import math\n",
    "import matplotlib.pyplot as plt\n",
    "\n",
    "def factor_int(n):\n",
    "    val = math.ceil(math.sqrt(n))\n",
    "    val2 = int(n/val)\n",
    "    while val2 * val != float(n):\n",
    "        val -= 1\n",
    "        val2 = int(n/val)\n",
    "    return val, val2\n",
    "\n",
    "n_figs = factor_int(len(images))\n",
    "print(n_figs)\n",
    "\n",
    "fig, axes = plt.subplots(*n_figs, figsize=[3*x for x in n_figs])\n",
    "for axis, img in zip(axes.flat, images):\n",
    "    axis.imshow(img[1])\n",
    "    axis.set_axis_off()\n",
    "\n",
    "fig.tight_layout()"
   ]
  },
  {
   "cell_type": "markdown",
   "id": "d651271e",
   "metadata": {},
   "source": [
    "Segment them\n",
    "----\n",
    "Now that we have read the scales into memory, we want to threshold them out.\n",
    "There aren't that many, so we could probably just do this by hand, but I don't have a mouse right now so I'm going to try to do it using computers."
   ]
  },
  {
   "cell_type": "markdown",
   "id": "eb5796e8",
   "metadata": {},
   "source": [
    "Elliptical Fourier Analysis\n",
    "----\n",
    "We'll summarise their shapes using Elliptical Fourier Analysis (EFA)\n",
    "<a name=\"cite_ref-1\"></a><sup>[1]</sup>\n",
    "<a name=\"cite_ref-2\"></a><sup>[2]</sup>,\n",
    "which basically decomposes the boundary into sums of ellipses.\n",
    "The coefficients (strength and direction of each size of ellipse) tell us about the shape of the object.\n",
    "There's a demonstration of how this works [here](https://reinvantveer.github.io/2019/07/12/elliptical_fourier_analysis.html).\n",
    "\n",
    "Our edge is constructed as:\n",
    "\n",
    "\\begin{aligned}\n",
    "x(t) &= a_0 + \\sum_{n=1}^{N} \\big[a_n \\cos(n t) + b_n \\sin(n t)\\big],\\\\\n",
    "y(t) &= c_0 + \\sum_{n=1}^{N} \\big[c_n \\cos(n t) + d_n \\sin(n t)\\big],\n",
    "\\qquad t \\in [0, 2\\pi].\n",
    "\\end{aligned}\n",
    "\n",
    "with:\n",
    "\n",
    "\\begin{aligned}\n",
    "a_0 = \\frac{1}{2\\pi}\\int_{0}^{2\\pi} x(t)\\,dt,\\qquad\n",
    "c_0 = \\frac{1}{2\\pi}\\int_{0}^{2\\pi} y(t)\\,dt.\n",
    "\\end{aligned}\n",
    "\n",
    "\\begin{aligned}\n",
    "a_n &= \\frac{1}{\\pi}\\int_{0}^{2\\pi} x(t)\\cos(n t)\\,dt, &\n",
    "b_n &= \\frac{1}{\\pi}\\int_{0}^{2\\pi} x(t)\\sin(n t)\\,dt,\\\\\n",
    "c_n &= \\frac{1}{\\pi}\\int_{0}^{2\\pi} y(t)\\cos(n t)\\,dt, &\n",
    "d_n &= \\frac{1}{\\pi}\\int_{0}^{2\\pi} y(t)\\sin(n t)\\,dt.\n",
    "\\end{aligned}\n",
    "\n",
    "possibly up to some factors of $2\\pi$"
   ]
  },
  {
   "cell_type": "code",
   "execution_count": null,
   "id": "19a77459",
   "metadata": {},
   "outputs": [],
   "source": []
  },
  {
   "cell_type": "markdown",
   "id": "576aad49",
   "metadata": {},
   "source": [
    "[^1](#cite_ref-1):  F. P. Kuhl and C. R. Giardina, ‘Elliptic Fourier features of a closed contour’, Computer Graphics and Image Processing, vol. 18, no. 3, pp. 236–258, Mar. 1982, doi: 10.1016/0146-664x(82)90034-x. \n",
    "\n",
    "[^2](#cite_ref-2): N. MacLeod, 'PalaeoMath 101 part 25: the centre cannot hold II: Elliptic fourier\n",
    "analysis.' Palaeontol. Assoc. Newslett. 79, 29–43, 2012 http://go.palass.org/65a."
   ]
  }
 ],
 "metadata": {
  "kernelspec": {
   "display_name": "scale-morphology (3.12.2)",
   "language": "python",
   "name": "python3"
  },
  "language_info": {
   "codemirror_mode": {
    "name": "ipython",
    "version": 3
   },
   "file_extension": ".py",
   "mimetype": "text/x-python",
   "name": "python",
   "nbconvert_exporter": "python",
   "pygments_lexer": "ipython3",
   "version": "3.12.2"
  }
 },
 "nbformat": 4,
 "nbformat_minor": 5
}
