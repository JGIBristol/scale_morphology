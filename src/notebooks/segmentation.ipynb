{
 "cells": [
  {
   "cell_type": "markdown",
   "id": "4df59372",
   "metadata": {},
   "source": [
    "Exploring stuff for segmentation"
   ]
  },
  {
   "cell_type": "code",
   "execution_count": null,
   "id": "8ff56d5c",
   "metadata": {},
   "outputs": [],
   "source": [
    "%load_ext autoreload\n",
    "%autoreload 2\n",
    "\n",
    "import pathlib\n",
    "\n",
    "parent_dir = pathlib.Path(\"~/zebrafish_rdsf/Rabia/SOST scales\").expanduser()\n",
    "assert parent_dir.exists()\n",
    "\n",
    "scale_dirs = tuple(d for d in parent_dir.glob(\"*\") if not d.stem in {\".DS_Store\", \"TIFs\"})"
   ]
  },
  {
   "cell_type": "code",
   "execution_count": null,
   "id": "11a7aabf",
   "metadata": {},
   "outputs": [],
   "source": [
    "from tqdm.notebook import tqdm\n",
    "\n",
    "from scale_morphology.scales import read\n",
    "\n",
    "# Just look at the ALP scales since they seem easiest to segment\n",
    "(alp_dir,) = (d for d in scale_dirs if \"ALP\" in d.stem)\n",
    "\n",
    "alp_files = list(alp_dir.glob(\"*.lif\"))\n",
    "print(len(alp_files), \"files\")\n",
    "\n",
    "names, images = [], []\n",
    "for path in alp_files:\n",
    "    name, img = zip(*read.read_lif(path))\n",
    "    names += name\n",
    "    images += img"
   ]
  },
  {
   "cell_type": "code",
   "execution_count": null,
   "id": "86444ff3",
   "metadata": {},
   "outputs": [],
   "source": [
    "out_dir = pathlib.Path(\"segmentation_stuff\")\n",
    "\n",
    "overlaid_dir = out_dir / \"overlaid\"\n",
    "mask_dir = out_dir / \"masks\"\n",
    "img_dir = out_dir / \"imgs\"\n",
    "\n",
    "for d in overlaid_dir, mask_dir, img_dir:\n",
    "    d.mkdir(exist_ok=True, parents=True)"
   ]
  },
  {
   "cell_type": "code",
   "execution_count": null,
   "id": "a5a6367b",
   "metadata": {},
   "outputs": [],
   "source": [
    "\"\"\"\n",
    "Build our training set by first using classical CV to perform segmentation\n",
    "\"\"\"\n",
    "\n",
    "import tifffile\n",
    "from matplotlib import colors\n",
    "import matplotlib.pyplot as plt\n",
    "from scale_morphology.scales import segmentation\n",
    "\n",
    "\n",
    "def clear2black_cmap() -> colors.Colormap:\n",
    "    \"\"\"\n",
    "    Colormap that varies from clear to black\n",
    "    \"\"\"\n",
    "    c_white = colors.colorConverter.to_rgba(\"white\", alpha=0)\n",
    "    c_black = colors.colorConverter.to_rgba(\"black\", alpha=1)\n",
    "    return colors.ListedColormap([c_white, c_black], \"clear2black\")\n",
    "\n",
    "\n",
    "cmap = clear2black_cmap()\n",
    "for name, img in zip(tqdm(names), images):\n",
    "    mask = segmentation.classical_segmentation(img)\n",
    "\n",
    "    tifffile.imwrite(mask_dir / (name + \".tif\"), mask)\n",
    "    tifffile.imwrite(img_dir / (name + \".tif\"), img)\n",
    "\n",
    "    fig, axis = plt.subplots(figsize=(5, 5))\n",
    "    axis.imshow(img)\n",
    "    axis.imshow(mask, cmap=cmap, alpha=0.5)\n",
    "    axis.set_axis_off()\n",
    "    fig.savefig(overlaid_dir / (name + \".png\"))\n",
    "    plt.close(fig)"
   ]
  }
 ],
 "metadata": {
  "kernelspec": {
   "display_name": "scale-morphology (3.12.2)",
   "language": "python",
   "name": "python3"
  },
  "language_info": {
   "codemirror_mode": {
    "name": "ipython",
    "version": 3
   },
   "file_extension": ".py",
   "mimetype": "text/x-python",
   "name": "python",
   "nbconvert_exporter": "python",
   "pygments_lexer": "ipython3",
   "version": "3.12.2"
  }
 },
 "nbformat": 4,
 "nbformat_minor": 5
}
