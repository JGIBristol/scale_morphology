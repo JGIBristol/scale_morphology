{
 "cells": [
  {
   "cell_type": "markdown",
   "id": "4df59372",
   "metadata": {},
   "source": [
    "Exploring stuff for segmentation"
   ]
  },
  {
   "cell_type": "code",
   "execution_count": null,
   "id": "8ff56d5c",
   "metadata": {},
   "outputs": [],
   "source": [
    "%load_ext autoreload\n",
    "%autoreload 2\n",
    "\n",
    "import pathlib\n",
    "\n",
    "parent_dir = pathlib.Path(\"~/zebrafish_rdsf/Rabia/SOST scales\").expanduser()\n",
    "assert parent_dir.exists()\n",
    "\n",
    "scale_dirs = tuple(d for d in parent_dir.glob(\"*\") if not d.stem in {\".DS_Store\", \"TIFs\"})"
   ]
  },
  {
   "cell_type": "code",
   "execution_count": null,
   "id": "11a7aabf",
   "metadata": {},
   "outputs": [],
   "source": [
    "from tqdm.notebook import tqdm\n",
    "\n",
    "from scale_morphology.scales import read\n",
    "\n",
    "# Just look at the ALP scales since they seem easiest to segment\n",
    "(alp_dir,) = (d for d in scale_dirs if \"ALP\" in d.stem)\n",
    "\n",
    "alp_files = list(alp_dir.glob(\"*.lif\"))\n",
    "print(len(alp_files), \"files\")\n",
    "\n",
    "names, images = [], []\n",
    "for path in alp_files:\n",
    "    name, img = zip(*read.read_lif(path))\n",
    "    names += name\n",
    "    images += img\n",
    "    break"
   ]
  },
  {
   "cell_type": "code",
   "execution_count": null,
   "id": "97e7afb8",
   "metadata": {},
   "outputs": [],
   "source": [
    "\"\"\"\n",
    "Convert to greyscale\n",
    "\"\"\"\n",
    "\n",
    "import math\n",
    "\n",
    "import matplotlib.pyplot as plt\n",
    "from skimage.color import rgb2gray\n",
    "\n",
    "\n",
    "def factor_int(n):\n",
    "    val = math.ceil(math.sqrt(n))\n",
    "    val2 = int(n / val)\n",
    "    while val2 * val != float(n):\n",
    "        val -= 1\n",
    "        val2 = int(n / val)\n",
    "    return val, val2\n",
    "\n",
    "\n",
    "def plot_imgs(images, **plot_kw):\n",
    "    n_figs = factor_int(len(images))\n",
    "\n",
    "    fig, axes = plt.subplots(*n_figs, figsize=[3 * x for x in n_figs])\n",
    "    for axis, img in zip(tqdm(axes.flat), images):\n",
    "        axis.imshow(img, **plot_kw, cmap=\"grey\")\n",
    "        axis.set_axis_off()\n",
    "    fig.tight_layout()\n",
    "\n",
    "\n",
    "greyscale = [rgb2gray(i) for i in tqdm(images[:16])]"
   ]
  },
  {
   "cell_type": "code",
   "execution_count": null,
   "id": "e9f4bb2d",
   "metadata": {},
   "outputs": [],
   "source": [
    "plot_imgs(greyscale)"
   ]
  },
  {
   "cell_type": "code",
   "execution_count": null,
   "id": "960aff5d",
   "metadata": {},
   "outputs": [],
   "source": [
    "\"\"\"\n",
    "Bkg subtraction - cba with this rn\n",
    "\"\"\""
   ]
  },
  {
   "cell_type": "code",
   "execution_count": null,
   "id": "e2c2866f",
   "metadata": {},
   "outputs": [],
   "source": [
    "\"\"\"\n",
    "Blur to remove noise\n",
    "\"\"\"\n",
    "from skimage.filters import gaussian\n",
    "\n",
    "blurred = [gaussian(i, sigma=3) for i in tqdm(greyscale)]\n",
    "plot_imgs(blurred)"
   ]
  },
  {
   "cell_type": "code",
   "execution_count": null,
   "id": "745033d1",
   "metadata": {},
   "outputs": [],
   "source": [
    "\"\"\"\n",
    "Contrast enhance\n",
    "\"\"\"\n",
    "\n",
    "from skimage.exposure import equalize_adapthist\n",
    "\n",
    "enhanced = [equalize_adapthist(i, kernel_size=2001) for i in tqdm(blurred)]"
   ]
  },
  {
   "cell_type": "code",
   "execution_count": null,
   "id": "cc93202d",
   "metadata": {},
   "outputs": [],
   "source": [
    "plot_imgs(enhanced)"
   ]
  },
  {
   "cell_type": "code",
   "execution_count": null,
   "id": "9fbd9ad5",
   "metadata": {},
   "outputs": [],
   "source": [
    "\"\"\"\n",
    "Threshold\n",
    "\"\"\"\n",
    "\n",
    "from skimage.filters import threshold_minimum, threshold_mean\n",
    "\n",
    "\n",
    "def threshold(i):\n",
    "    return (i < threshold_minimum(i)) | (i < threshold_mean(i))\n",
    "\n",
    "\n",
    "thresholded = [threshold(i) for i in tqdm(enhanced)]\n",
    "\n",
    "plot_imgs(thresholded)"
   ]
  },
  {
   "cell_type": "code",
   "execution_count": null,
   "id": "31567a67",
   "metadata": {},
   "outputs": [],
   "source": [
    "\"\"\"\n",
    "Remove small objects\n",
    "\"\"\"\n",
    "from skimage.segmentation import clear_border\n",
    "a = [clear_border(i) for i in tqdm(thresholded)]\n",
    "\n",
    "plot_imgs(a)\n"
   ]
  },
  {
   "cell_type": "code",
   "execution_count": null,
   "id": "eb20b98a",
   "metadata": {},
   "outputs": [],
   "source": [
    "\"\"\"\n",
    "Fill holes\n",
    "\"\"\""
   ]
  },
  {
   "cell_type": "code",
   "execution_count": null,
   "id": "997a4332",
   "metadata": {},
   "outputs": [],
   "source": [
    "\"\"\"\n",
    "Binary opening\n",
    "\"\"\""
   ]
  },
  {
   "cell_type": "code",
   "execution_count": null,
   "id": "f7c62b1f",
   "metadata": {},
   "outputs": [],
   "source": [
    "masks = [255 * tifffile.imread(f).astype(np.uint8) for f in mask_dir.glob(\"*.tif\")]\n",
    "old_masks = [\n",
    "    255 * tifffile.imread(f).astype(np.uint8)\n",
    "    for f in (pathlib.Path(\"segmentation_stuff\") / \"masks\").glob(\"*.tif\")\n",
    "]"
   ]
  },
  {
   "cell_type": "code",
   "execution_count": null,
   "id": "869a2353",
   "metadata": {},
   "outputs": [],
   "source": [
    "import napari\n",
    "import numpy as np\n",
    "import tifffile\n",
    "from pathlib import Path\n",
    "\n",
    "mask_paths = sorted(mask_dir.glob(\"*.tif\"))\n",
    "img_paths = {p.name: img_dir / p.name for p in mask_paths}\n",
    "\n",
    "state = {\"i\": 0, \"viewer\": None, \"labels\": None}\n",
    "\n",
    "\n",
    "def load_index(i):\n",
    "    name = mask_paths[i].name\n",
    "    im = tifffile.imread(img_paths[name])\n",
    "    mask = tifffile.imread(mask_paths[i]).astype(np.uint8)\n",
    "\n",
    "    if state[\"labels\"] is None:\n",
    "        state[\"image\"] = viewer.add_image(im, name=\"image\")\n",
    "        state[\"labels\"] = viewer.add_labels(mask, name=\"mask\", opacity=0.5)\n",
    "    else:\n",
    "        state[\"image\"].data = im\n",
    "        state[\"labels\"].data = mask\n",
    "    viewer.title = f\"{i+1}/{len(mask_paths)} : {name}\"\n",
    "\n",
    "\n",
    "def save_current():\n",
    "    name = mask_paths[state[\"i\"]].name\n",
    "    out_path = out_dir / \"cleaned_masks\" / name\n",
    "    tifffile.imwrite(out_path, (state[\"labels\"].data > 0).astype(np.uint8) * 255)\n",
    "    print(f\"Saved {out_path}\")\n",
    "\n",
    "\n",
    "viewer = napari.Viewer()\n",
    "state[\"viewer\"] = viewer\n",
    "\n",
    "\n",
    "@viewer.bind_key(\"s\")\n",
    "def _save(v):\n",
    "    save_current()\n",
    "\n",
    "\n",
    "@viewer.bind_key(\"n\")\n",
    "def _next(v):\n",
    "    save_current()\n",
    "    if state[\"i\"] < len(mask_paths) - 1:\n",
    "        state[\"i\"] += 1\n",
    "        load_index(state[\"i\"])\n",
    "\n",
    "\n",
    "@viewer.bind_key(\"p\")\n",
    "def _prev(v):\n",
    "    save_current()\n",
    "    if state[\"i\"] > 0:\n",
    "        state[\"i\"] -= 1\n",
    "        load_index(state[\"i\"])\n",
    "\n",
    "\n",
    "load_index(0)"
   ]
  },
  {
   "cell_type": "code",
   "execution_count": null,
   "id": "2a17b6a4",
   "metadata": {},
   "outputs": [],
   "source": [
    "\"\"\"\n",
    "Read in a couple of the masks and look at them\n",
    "\"\"\"\n",
    "\n",
    "import numpy as np\n",
    "import matplotlib.pyplot as plt\n",
    "\n",
    "\n",
    "def plot_masks(masks):\n",
    "    fig, axes = plt.subplots(2, 2, figsize=(10, 10))\n",
    "    for mask, axis in zip(masks, axes.flat):\n",
    "        im = axis.imshow(mask)\n",
    "        axis.set_axis_off()\n",
    "\n",
    "    fig.colorbar(im)\n",
    "    fig.tight_layout()"
   ]
  },
  {
   "cell_type": "code",
   "execution_count": null,
   "id": "8fb1070a",
   "metadata": {},
   "outputs": [],
   "source": [
    "import pathlib\n",
    "import tifffile\n",
    "from itertools import islice\n",
    "\n",
    "mask_dir = pathlib.Path(\"segmentation_stuff\") / \"masks\"\n",
    "\n",
    "masks = [tifffile.imread(f) for f in islice(mask_dir.glob(\"*\"), 4)]\n",
    "\n",
    "plot_masks(masks)"
   ]
  }
 ],
 "metadata": {
  "kernelspec": {
   "display_name": "scale-morphology (3.12.2)",
   "language": "python",
   "name": "python3"
  },
  "language_info": {
   "codemirror_mode": {
    "name": "ipython",
    "version": 3
   },
   "file_extension": ".py",
   "mimetype": "text/x-python",
   "name": "python",
   "nbconvert_exporter": "python",
   "pygments_lexer": "ipython3",
   "version": "3.12.2"
  }
 },
 "nbformat": 4,
 "nbformat_minor": 5
}
