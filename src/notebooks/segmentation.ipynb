{
 "cells": [
  {
   "cell_type": "markdown",
   "id": "4df59372",
   "metadata": {},
   "source": [
    "Exploring stuff for segmentation"
   ]
  },
  {
   "cell_type": "code",
   "execution_count": null,
   "id": "8ff56d5c",
   "metadata": {},
   "outputs": [],
   "source": [
    "%load_ext autoreload\n",
    "%autoreload 2\n",
    "\n",
    "import pathlib\n",
    "\n",
    "parent_dir = pathlib.Path(\"~/zebrafish_rdsf/Rabia/SOST scales\").expanduser()\n",
    "assert parent_dir.exists()\n",
    "\n",
    "scale_dirs = tuple(d for d in parent_dir.glob(\"*\") if not d.stem in {\".DS_Store\", \"TIFs\"})"
   ]
  },
  {
   "cell_type": "code",
   "execution_count": null,
   "id": "11a7aabf",
   "metadata": {},
   "outputs": [],
   "source": [
    "from tqdm.notebook import tqdm\n",
    "\n",
    "from scale_morphology.scales import read\n",
    "\n",
    "# Just look at the ALP scales since they seem easiest to segment\n",
    "(alp_dir,) = (d for d in scale_dirs if \"ALP\" in d.stem)\n",
    "\n",
    "alp_files = list(alp_dir.glob(\"*.lif\"))\n",
    "print(len(alp_files), \"files\")\n",
    "\n",
    "names, images = [], []\n",
    "for path in alp_files:\n",
    "    name, img = zip(*read.read_lif(path))\n",
    "    names += name\n",
    "    images += img"
   ]
  }
 ],
 "metadata": {
  "kernelspec": {
   "display_name": "scale-morphology (3.12.2)",
   "language": "python",
   "name": "python3"
  },
  "language_info": {
   "codemirror_mode": {
    "name": "ipython",
    "version": 3
   },
   "file_extension": ".py",
   "mimetype": "text/x-python",
   "name": "python",
   "nbconvert_exporter": "python",
   "pygments_lexer": "ipython3",
   "version": "3.12.2"
  }
 },
 "nbformat": 4,
 "nbformat_minor": 5
}
