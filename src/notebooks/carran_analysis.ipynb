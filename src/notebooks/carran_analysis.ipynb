{
 "cells": [
  {
   "cell_type": "markdown",
   "id": "c425a2ad",
   "metadata": {},
   "source": [
    "Conversion + Segmentation of LIF files\n",
    "====\n",
    "- Read in the LIF files\n",
    "- Save them as TIFs (they're nicer for me to work with)\n",
    "- Segment them with my pipeline\n",
    "\n",
    "Part 1 - converting to TIF\n",
    "----"
   ]
  },
  {
   "cell_type": "code",
   "execution_count": null,
   "id": "5e2c5304",
   "metadata": {},
   "outputs": [],
   "source": [
    "\"\"\"\n",
    "Get paths to LIF files\n",
    "\"\"\"\n",
    "\n",
    "import pathlib\n",
    "\n",
    "parent_dir = pathlib.Path(\n",
    "    \"~/zebrafish_rdsf/Carran/Postgrad/Scale images from WT_spp1_sost\"\n",
    ").expanduser()\n",
    "assert parent_dir.exists()\n",
    "\n",
    "lif_paths = list(parent_dir.glob(\"*\"))"
   ]
  },
  {
   "cell_type": "code",
   "execution_count": null,
   "id": "8ab65a1c",
   "metadata": {},
   "outputs": [],
   "source": [
    "\"\"\"\n",
    "Get rid of some weird ones\n",
    "\"\"\"\n",
    "lif_paths = [l for l in lif_paths if \"out of focus\" not in str(l) and not l.is_dir() and not l.stem == \".DS_Store\"]\n",
    "lif_paths"
   ]
  },
  {
   "cell_type": "code",
   "execution_count": null,
   "id": "83e669a2",
   "metadata": {},
   "outputs": [],
   "source": [
    "\"\"\"\n",
    "For now, select only the ALP stained ones, because they're easier to segment\n",
    "\"\"\"\n",
    "\n",
    "import pandas as pd\n",
    "\n",
    "\n",
    "def get_stain(name: str) -> str:\n",
    "    \"\"\"\n",
    "    Expect either KOSSA, ALP or TRAP\n",
    "    \"\"\"\n",
    "    # Expect name to always end in .lif\n",
    "    (stem, ending) = name.split(\".lif\")\n",
    "    assert not ending, f\"{stem}, {ending}\"\n",
    "\n",
    "    vk, alp, trap = False, False, False\n",
    "    if \"KOSSA\" in stem or \"VK\" in stem:\n",
    "        vk = True\n",
    "    if \"ALP\" in stem:\n",
    "        alp = True\n",
    "    if \"TRAP\" in stem:\n",
    "        trap = True\n",
    "    \n",
    "    if vk + alp + trap != 1:\n",
    "        raise ValueError(f\"Unknown stain for {stem}; {vk=}, {alp=}, {trap=}\")\n",
    "    \n",
    "    if vk:\n",
    "        return \"KOSSA\"\n",
    "    if alp:\n",
    "        return \"ALP\"\n",
    "    return \"TRAP\"\n",
    "    \n",
    "\n",
    "\n",
    "lif_df = pd.DataFrame(columns=[\"path\"])\n",
    "lif_df[\"path\"] = lif_paths\n",
    "lif_df[\"name\"] = lif_df[\"path\"].apply(lambda p: pathlib.Path(p).name)\n",
    "lif_df[\"stain\"] = lif_df[\"name\"].apply(get_stain)\n",
    "\n",
    "lif_df"
   ]
  },
  {
   "cell_type": "code",
   "execution_count": null,
   "id": "ba2c6f1c",
   "metadata": {},
   "outputs": [],
   "source": [
    "\"\"\"\n",
    "Extract ages\n",
    "\"\"\"\n",
    "\n",
    "\n",
    "def get_year(stem):\n",
    "    \"\"\"\n",
    "    Extract years from a filepath\n",
    "    \"\"\"\n",
    "    if \"year\" not in stem:\n",
    "        return 0\n",
    "\n",
    "    year_str, _ = stem.split(\"year\")\n",
    "    return int(year_str.strip()[-1])\n",
    "\n",
    "\n",
    "def get_month(stem):\n",
    "    \"\"\"\n",
    "    Extract months from a filepath\n",
    "    \"\"\"\n",
    "    if not \"month\" in stem:\n",
    "        return 0\n",
    "    month_str, _ = stem.split(\"month\")\n",
    "    month_str = month_str.strip()\n",
    "\n",
    "    # We might have a 2-digit month, so check for that here\n",
    "    if month_str[-2].isdigit():\n",
    "        return int(month_str[-2:])\n",
    "    return int(month_str[-1])\n",
    "\n",
    "\n",
    "def get_age(stem):\n",
    "    \"\"\"Get age in months\"\"\"\n",
    "    return 12 * get_year(stem) + get_month(stem)\n",
    "\n",
    "\n",
    "lif_df[\"age\"] = lif_df[\"name\"].apply(get_age)"
   ]
  },
  {
   "cell_type": "code",
   "execution_count": null,
   "id": "5147f169",
   "metadata": {},
   "outputs": [],
   "source": [
    "\"\"\"\n",
    "Select only the ALP ones, for now\n",
    "\"\"\"\n",
    "alp_df = lif_df[lif_df[\"stain\"] == \"ALP\"]\n",
    "alp_df"
   ]
  },
  {
   "cell_type": "code",
   "execution_count": null,
   "id": "1c7f369c",
   "metadata": {},
   "outputs": [],
   "source": [
    "\"\"\"\n",
    "Read them into arrays\n",
    "\"\"\"\n",
    "\n",
    "from tqdm import tqdm\n",
    "from scale_morphology.scales import read\n",
    "\n",
    "names, imgs, lifs = [], [], []\n",
    "for path in tqdm(alp_df[\"path\"]):\n",
    "    name, img = zip(*read.read_lif(path))\n",
    "\n",
    "    names += name\n",
    "    imgs += img\n",
    "    lifs += [path.name for _ in name]"
   ]
  },
  {
   "cell_type": "code",
   "execution_count": null,
   "id": "0f7780dc",
   "metadata": {},
   "outputs": [],
   "source": [
    "\"\"\"\n",
    "Munge names and save as TIFs\n",
    "\"\"\"\n",
    "\n",
    "import tifffile\n",
    "\n",
    "out_dir = parent_dir / \"TIFs\"\n",
    "try:\n",
    "    out_dir.mkdir(exist_ok=False)\n",
    "    for name, img, lif in zip(tqdm(names), imgs, lifs, strict=True):\n",
    "        path = (\n",
    "            name\n",
    "            + \"__\"\n",
    "            + lif.replace(\".lif\", \"\").replace(\".\", \"_\").replace(\" \", \"_\")\n",
    "            + \".tif\"\n",
    "        )\n",
    "        tifffile.imwrite(out_dir / path, img)\n",
    "except FileExistsError:\n",
    "    print(\"dir\", out_dir, \"exists\")"
   ]
  },
  {
   "cell_type": "code",
   "execution_count": null,
   "id": "d28673fd",
   "metadata": {},
   "outputs": [],
   "source": [
    "assert False"
   ]
  },
  {
   "cell_type": "markdown",
   "id": "6aebd099",
   "metadata": {},
   "source": [
    "Part 2: segmenting out the scales\n",
    "----\n",
    "Assuming the above has run, we will now segment out the scales stored in the TIF files."
   ]
  },
  {
   "cell_type": "code",
   "execution_count": null,
   "id": "33ef3ec1",
   "metadata": {},
   "outputs": [],
   "source": [
    "%load_ext autoreload\n",
    "%autoreload 2"
   ]
  },
  {
   "cell_type": "code",
   "execution_count": null,
   "id": "dad92654",
   "metadata": {},
   "outputs": [],
   "source": [
    "\"\"\" \"\"\"\n",
    "\n",
    "import pathlib\n",
    "\n",
    "parent_dir = pathlib.Path(\n",
    "    \"~/zebrafish_rdsf/Carran/Postgrad/Scale images from WT_spp1_sost\"\n",
    ").expanduser()\n",
    "assert parent_dir.exists()\n",
    "\n",
    "in_dir = parent_dir / \"TIFs\"\n",
    "assert in_dir.is_dir()\n",
    "\n",
    "out_dir = in_dir / \"segmentations\"\n",
    "out_dir.mkdir(exist_ok=True)\n",
    "\n",
    "in_paths = sorted(list(in_dir.glob(\"*.tif\")))\n",
    "\n",
    "out_paths = [out_dir / (name.stem + \"_segmentation.tif\") for name in in_paths]"
   ]
  },
  {
   "cell_type": "code",
   "execution_count": null,
   "id": "ef8d3f00",
   "metadata": {},
   "outputs": [],
   "source": [
    "import tifffile\n",
    "from tqdm import tqdm\n",
    "\n",
    "from scale_morphology.scales import segmentation\n",
    "\n",
    "for in_path, out_path in zip(tqdm(in_paths), out_paths, strict=True):\n",
    "    img = tifffile.imread(in_path)\n",
    "    mask = segmentation.segment_alp(\n",
    "        img,\n",
    "        device=\"cuda\",\n",
    "        model_type=\"vit_h\",\n",
    "        model_checkpoint=pathlib.Path(\"checkpoints\") / \"sam_vit_h_4b8939.pth\",\n",
    "    )\n",
    "    tifffile.imwrite(out_path, mask)"
   ]
  },
  {
   "cell_type": "code",
   "execution_count": null,
   "id": "a90c3d96",
   "metadata": {},
   "outputs": [],
   "source": [
    "\"\"\"\n",
    "Now that the segmentation has run, have a look at them just to check\n",
    "\"\"\"\n",
    "\n",
    "import numpy as np\n",
    "import tifffile\n",
    "import matplotlib.pyplot as plt\n",
    "\n",
    "fig, axes = plt.subplots(4, 4, figsize=(10, 10))\n",
    "indices = np.random.randint(0, 600, size=16)\n",
    "\n",
    "for i, axis in zip(indices, axes.flat):\n",
    "    axis.imshow(tifffile.imread(in_paths[i]))\n",
    "    axis.imshow(tifffile.imread(out_paths[i]), alpha=0.5)\n",
    "    axis.set_axis_off()\n",
    "\n",
    "fig.tight_layout()"
   ]
  }
 ],
 "metadata": {
  "kernelspec": {
   "display_name": "scale-morphology (3.12.2)",
   "language": "python",
   "name": "python3"
  },
  "language_info": {
   "codemirror_mode": {
    "name": "ipython",
    "version": 3
   },
   "file_extension": ".py",
   "mimetype": "text/x-python",
   "name": "python",
   "nbconvert_exporter": "python",
   "pygments_lexer": "ipython3",
   "version": "3.12.2"
  }
 },
 "nbformat": 4,
 "nbformat_minor": 5
}
