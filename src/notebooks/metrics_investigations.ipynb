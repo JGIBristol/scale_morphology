{
 "cells": [
  {
   "cell_type": "markdown",
   "id": "35d02a59",
   "metadata": {},
   "source": [
    "Metrics Investigations\n",
    "====\n",
    "Investigating metrics (area, Dice score, Hausdorff distance) for describing how well my EFA captures a shape.\n",
    "\n",
    "Of course - one thing to consider here is the truth of the segmentation masks; if we expect the scale shape to be smooth (or indeed, if we want to enforce this because its a property that we want - if, for example, we're only interested in the slower-varying shape differences between scales), we might not want to perfectly reconstruct the segmentation mask - the highest harmonics may just be capturing noise.\n",
    "\n",
    "First, we'll check if my area formula actually works..."
   ]
  },
  {
   "cell_type": "code",
   "execution_count": null,
   "id": "f4bf85e5",
   "metadata": {},
   "outputs": [],
   "source": [
    "\"\"\"\n",
    "Read in some scales\n",
    "\"\"\"\n",
    "\n",
    "import pathlib\n",
    "import tifffile\n",
    "from tqdm.notebook import tqdm\n",
    "\n",
    "seg_dir = pathlib.Path(\"segmentation/cleaned_masks\")\n",
    "assert seg_dir.is_dir()\n",
    "\n",
    "scales = [tifffile.imread(f) for f in tqdm(sorted(list(seg_dir.glob(\"*\"))))]"
   ]
  },
  {
   "cell_type": "code",
   "execution_count": null,
   "id": "bb30c63f",
   "metadata": {},
   "outputs": [],
   "source": [
    "import numpy as np\n",
    "from scipy.ndimage import binary_fill_holes\n",
    "from scale_morphology.scales.segmentation import largest_connected_component\n",
    "\n",
    "scales = [\n",
    "    255 * largest_connected_component(binary_fill_holes(m)).astype(np.uint8)\n",
    "    for m in tqdm(scales)\n",
    "]"
   ]
  },
  {
   "cell_type": "code",
   "execution_count": null,
   "id": "c435876b",
   "metadata": {},
   "outputs": [],
   "source": [
    "\"\"\"\n",
    "Construct EFA descriptions of them\n",
    "\"\"\"\n",
    "from scale_morphology.scales import efa\n",
    "\n",
    "# Set this to 1000, 500 to get pretty good reconstruction of areas\n",
    "# set it lower to make it faster...\n",
    "n_points = 100\n",
    "n_harmonics = 50\n",
    "\n",
    "coeffs = [efa.coefficients(s, n_points, n_harmonics) for s in tqdm(scales)]\n",
    "coeffs = np.stack(coeffs)"
   ]
  },
  {
   "cell_type": "code",
   "execution_count": null,
   "id": "a90b81e1",
   "metadata": {},
   "outputs": [],
   "source": [
    "import matplotlib.pyplot as plt\n",
    "from scale_morphology.scales import plotting\n",
    "\n",
    "i = 100\n",
    "fig, axis = plt.subplots(figsize=(8, 8))\n",
    "axis.imshow(scales[i].T, origin=\"lower\", cmap=\"grey\")\n",
    "axis.set_aspect(\"equal\")\n",
    "\n",
    "locus = np.mean(np.where(scales[i] > 0), axis=1)\n",
    "plotting.plot_efa(\n",
    "    locus,\n",
    "    coeffs[i],\n",
    "    label=\"Elliptic Expansion best fit\",\n",
    "    linewidth=3,\n",
    "    color=\"#ff00fa\",\n",
    "    axis=axis,\n",
    ")\n",
    "\n",
    "x, y = efa.points_around_edge(scales[i], n_points)\n",
    "axis.plot(x, y, \"#00ff05\", markersize=3, label=\"Edges\", marker=\"o\", linestyle=\"none\")\n",
    "\n",
    "axis.set_axis_off()\n",
    "axis.legend()"
   ]
  },
  {
   "cell_type": "code",
   "execution_count": null,
   "id": "07dee3fd",
   "metadata": {},
   "outputs": [],
   "source": [
    "from scale_morphology.scales import plotting\n",
    "\n",
    "i = 100\n",
    "fig, axis = plt.subplots(figsize=(8, 8))\n",
    "axis.imshow(scales[i].T, origin=\"lower\", cmap=\"grey\")\n",
    "axis.set_aspect(\"equal\")\n",
    "\n",
    "locus = np.mean(np.where(scales[i] > 0), axis=1)\n",
    "plotting.plot_efa(\n",
    "    locus,\n",
    "    coeffs[i],\n",
    "    label=\"Elliptic Expansion best fit\",\n",
    "    linewidth=3,\n",
    "    color=\"#ff00fa\",\n",
    "    axis=axis,\n",
    ")\n",
    "\n",
    "x, y = efa.points_around_edge(scales[i], n_pts)\n",
    "axis.plot(x, y, \"#00ff05\", markersize=3, label=\"Edges\", marker=\"o\", linestyle=\"none\")\n",
    "\n",
    "axis.set_axis_off()\n",
    "axis.legend()\n",
    "\n",
    "fig.suptitle(\"Scale, edge points and reconstruction\")"
   ]
  },
  {
   "cell_type": "code",
   "execution_count": null,
   "id": "c72b3dde",
   "metadata": {},
   "outputs": [],
   "source": [
    "\"\"\"\n",
    "Find their areas\n",
    "\"\"\"\n",
    "\n",
    "_, val = sorted(np.unique(scales[0]))\n",
    "true_areas = [np.sum(s) / val for s in scales]"
   ]
  },
  {
   "cell_type": "code",
   "execution_count": null,
   "id": "d3927a92",
   "metadata": {},
   "outputs": [],
   "source": [
    "\"\"\"\n",
    "Calculate the area from these coefficients\n",
    "\"\"\"\n",
    "\n",
    "\n",
    "def area(coeffs: np.ndarray):\n",
    "    a, b, c, d = coeffs.T\n",
    "    ns = np.arange(len(a)) + 1\n",
    "    return -np.pi * np.sum(ns * (a * d - b * c))\n",
    "\n",
    "approx_areas = [area(c) for c in tqdm(coeffs)]"
   ]
  },
  {
   "cell_type": "code",
   "execution_count": null,
   "id": "dc696931",
   "metadata": {},
   "outputs": [],
   "source": [
    "\"\"\"\n",
    "Plot the area of our scales vs the EFA derived areas - should be a good match\n",
    "\"\"\"\n",
    "\n",
    "fig, axis = plt.subplots(figsize=(4, 2))\n",
    "axis.plot(approx_areas, true_areas, \".\")\n",
    "axis.set_title(f\"r2 = {np.corrcoef(approx_areas, true_areas)[0, 1]:.6f}\")"
   ]
  },
  {
   "cell_type": "code",
   "execution_count": null,
   "id": "4a0058d6",
   "metadata": {},
   "outputs": [],
   "source": [
    "\"\"\"\n",
    "Plot the area as a function of harmonic order\n",
    "\"\"\"\n",
    "\n",
    "fig, axis = plt.subplots()\n",
    "\n",
    "n = 250\n",
    "orders = np.arange(1, n)\n",
    "\n",
    "area_diffs = []\n",
    "errs = []\n",
    "pbar = tqdm(total=n * len(coeffs))\n",
    "for o in orders:\n",
    "    tmp = []\n",
    "    for coeff_example, true_area in zip(coeffs, true_areas, strict=True):\n",
    "        tmp.append(abs(area(coeff_example[:o]) - true_area))\n",
    "        pbar.update(1)\n",
    "    area_diffs.append(np.median(tmp))\n",
    "    errs.append(0.5 * np.subtract(*np.quantile(tmp, [0.75, 0.25])))\n",
    "\n",
    "final_diffs = tmp.copy()\n",
    "\n",
    "axis.plot(orders, area_diffs, label=r\"Median $\\Delta$Area\")\n",
    "axis.fill_between(\n",
    "    orders, np.array(area_diffs) + errs, np.array(area_diffs) - errs, alpha=0.3, label=\"IQR\"\n",
    ")\n",
    "\n",
    "axis.legend()\n",
    "axis.set_yscale(\"log\")\n",
    "\n",
    "axis.set_ylabel(\"Error /px\")\n",
    "axis.set_xlabel(\"Harmonic Order\")\n",
    "\n",
    "fig.suptitle(f\"Error in area rapidly approaches 0\\n First {n} shown\")\n",
    "fig.tight_layout()"
   ]
  },
  {
   "cell_type": "code",
   "execution_count": null,
   "id": "d903d9c0",
   "metadata": {},
   "outputs": [],
   "source": [
    "plt.hist(final_diffs, bins=30)\n",
    "plt.title(f\"Final Errors /px after {n_harmonics} harmonics\")"
   ]
  },
  {
   "cell_type": "markdown",
   "id": "6bc1be08",
   "metadata": {},
   "source": [
    "Dice Score\n",
    "----\n",
    "We're more interested in whether the shape is faithfully reconstructed, than the area"
   ]
  },
  {
   "cell_type": "markdown",
   "id": "92754368",
   "metadata": {},
   "source": [
    "Hausdorff Distance\n",
    "----\n",
    "We're actually most interested in the boundary agreement - this is defined by the Hausdorff distance."
   ]
  },
  {
   "cell_type": "code",
   "execution_count": null,
   "id": "a0fb8370",
   "metadata": {},
   "outputs": [],
   "source": [
    "\"\"\"\n",
    "Reconstruct a mask from the coefficients\n",
    "\"\"\"\n",
    "\n",
    "import cv2\n",
    "\n",
    "\n",
    "def points2mask(shape, x, y):\n",
    "    \"\"\"\n",
    "    Convert points to a segmentation mask\n",
    "    \"\"\"\n",
    "    points = np.stack([y, x], axis=1).astype(np.int32).reshape(-1, 1, 2)\n",
    "\n",
    "    mask = np.zeros(shape)\n",
    "\n",
    "    cv2.fillPoly(mask, [points], 255)\n",
    "\n",
    "    return np.rot90(mask, k=2)\n",
    "\n",
    "\n",
    "fig, axes = plt.subplots(1, 2)\n",
    "\n",
    "axes[0].imshow(scales[0].T, cmap=\"binary\", origin=\"lower\")\n",
    "axes[0].set_aspect(\"equal\")\n",
    "\n",
    "n_pts = 1000\n",
    "locus = np.mean(np.where(scales[0] > 0), axis=1)\n",
    "# x, y = efa.coeffs2points(coeffs[0], , axis=1))\n",
    "# reconstructed = points2mask(scales[0].shape, x, y)\n",
    "# axes[1].imshow(scales[0], origin=\"lower\")\n",
    "# axes[1].imshow(reconstructed, cmap=\"binary\", alpha=0.5, origin=\"lower\")\n",
    "plotting.plot_efa(locus, coeffs[0], axis=axes[0])"
   ]
  },
  {
   "cell_type": "code",
   "execution_count": null,
   "id": "de4ad6e2",
   "metadata": {},
   "outputs": [],
   "source": [
    "from scale_morphology.scales import plotting\n",
    "\n",
    "i = 100\n",
    "fig, axis = plt.subplots(figsize=(8, 8))\n",
    "axis.imshow(scales[i].T, origin=\"lower\", cmap=\"grey\")\n",
    "axis.set_aspect(\"equal\")\n",
    "\n",
    "locus = np.mean(np.where(scales[i] > 0), axis=1)\n",
    "plotting.plot_efa(\n",
    "    locus,\n",
    "    coeffs[i],\n",
    "    label=\"Elliptic Expansion best fit\",\n",
    "    linewidth=3,\n",
    "    color=\"#ff00fa\",\n",
    "    axis=axis,\n",
    ")\n",
    "\n",
    "x, y = efa.points_around_edge(scales[i], n_pts)\n",
    "axis.plot(x, y, \"#00ff05\", markersize=3, label=\"Edges\", marker=\"o\", linestyle=\"none\", alpha=0.2)\n",
    "\n",
    "axis.set_axis_off()\n",
    "axis.legend()\n",
    "\n",
    "fig.suptitle(\"Scale, edge points and reconstruction\")"
   ]
  }
 ],
 "metadata": {
  "kernelspec": {
   "display_name": "scale-morphology (3.12.2)",
   "language": "python",
   "name": "python3"
  },
  "language_info": {
   "codemirror_mode": {
    "name": "ipython",
    "version": 3
   },
   "file_extension": ".py",
   "mimetype": "text/x-python",
   "name": "python",
   "nbconvert_exporter": "python",
   "pygments_lexer": "ipython3",
   "version": "3.12.2"
  }
 },
 "nbformat": 4,
 "nbformat_minor": 5
}
